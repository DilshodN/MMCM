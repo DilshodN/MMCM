{
 "cells": [
  {
   "cell_type": "code",
   "execution_count": 112,
   "id": "1de95b0e",
   "metadata": {},
   "outputs": [],
   "source": [
    "import numpy as np\n",
    "import matplotlib.pyplot as plt\n",
    "from time import perf_counter\n",
    "import pandas as pd"
   ]
  },
  {
   "cell_type": "code",
   "execution_count": 89,
   "id": "1aeca002",
   "metadata": {},
   "outputs": [],
   "source": [
    "#Возвращает значение полинома вида kind степени n в точке x\n",
    "def polynomial(n: int, x: float, kind: str):\n",
    "    #моном\n",
    "    if (kind == 'monom'):\n",
    "        return x**n\n",
    "    #Полином Чебышева\n",
    "    elif (kind == 'Chebyshev'):\n",
    "        if(n == 0) :\n",
    "            return 1\n",
    "        elif (n == 1) :\n",
    "            return x\n",
    "        else:\n",
    "            return 2*x*polynomial(n-1, x, kind) - polynomial(n -2, x, kind)\n",
    "    #Полином Лежандра\n",
    "    elif (kind == 'Legendre'):\n",
    "        if (n == 0):\n",
    "            return 1\n",
    "        elif (n == 1):\n",
    "            return x\n",
    "        else:\n",
    "            return (2*n -1) / n*x*polynomial(n-1, x, kind) - (n-1) / n * polynomial(n-2, x, kind)"
   ]
  },
  {
   "cell_type": "code",
   "execution_count": 90,
   "id": "452f7058",
   "metadata": {},
   "outputs": [],
   "source": [
    "def setMatrix(n: int, data, kind: str):\n",
    "    A = np.zeros((len(data), n + 1))\n",
    "    b = np.zeros(len(data))\n",
    "    \n",
    "    for i in range(len(data)):\n",
    "        for j in range(n + 1):\n",
    "            A[i, j] = polynomial(j, data[i, 0], kind)\n",
    "        b[i] = data[i, 1]\n",
    "    return A, b"
   ]
  },
  {
   "cell_type": "code",
   "execution_count": 91,
   "id": "981d8fa1",
   "metadata": {},
   "outputs": [],
   "source": [
    "def dataApproxWithNU(n: int, data, kind: str):\n",
    "    A, b = setMatrix(n, data, kind)\n",
    "    \n",
    "    t1 = perf_counter()\n",
    "    AtA = np.dot(A.T, A)\n",
    "    Atb = np.dot(A.T, b)\n",
    "    \n",
    "    cond = np.linalg.cond(AtA)\n",
    "    \n",
    "    coeffs = np.linalg.solve(AtA, Atb)\n",
    "    t2 = perf_counter()\n",
    "    bench = t2 - t1\n",
    "    \n",
    "    NRSME = np.sqrt(np.sum((np.dot(A, coeffs) - b)**2) / len(data)) / np.max(np.abs(b))\n",
    "    \n",
    "    return np.dot(A, coeffs), cond, RSME, bench"
   ]
  },
  {
   "cell_type": "code",
   "execution_count": 92,
   "id": "9432cd59",
   "metadata": {},
   "outputs": [],
   "source": [
    "def householderReflectionQR(A):\n",
    "    n, m = A.shape\n",
    "    Q = np.eye(n)\n",
    "    R = np.copy(A)\n",
    "    \n",
    "    for k in range(m):\n",
    "        v = np.copy(R[k:, k]).reshape((n-k, 1))\n",
    "        v[0] = v[0] + np.sign(v[0]) * np.linalg.norm(v)\n",
    "        \n",
    "        v = v / np.linalg.norm(v)\n",
    "        R[k:, k:] = R[k:, k:] - 2 * v @ v.T @ R[k:, k:]\n",
    "        Q[k:] = Q[k:] - 2 * v @ v.T @ Q[k:]\n",
    "    \n",
    "    return Q[:m].T, R[:m]"
   ]
  },
  {
   "cell_type": "code",
   "execution_count": 93,
   "id": "7fe453c3",
   "metadata": {},
   "outputs": [],
   "source": [
    "def dataApproxWithQR(n: int, data, kind: str):\n",
    "    A, b = setMatrix(n, data, kind)\n",
    "    \n",
    "    t1 = perf_counter()\n",
    "    Q, R = householderReflectionQR(A)\n",
    "    t2 = perf_counter()\n",
    "    bench = t2 - t1\n",
    "    \n",
    "    cond = np.linalg.cond(A)\n",
    "    \n",
    "    coeffs = np.dot(np.linalg.inv(R), np.dot(Q.T, b))\n",
    "    \n",
    "    NRSME = np.sqrt(np.sum((np.dot(A, coeffs) - b)**2) / len(data)) / np.max(np.abs(b))\n",
    "    \n",
    "    return np.dot(A, coeffs), cond, RSME, bench"
   ]
  },
  {
   "cell_type": "code",
   "execution_count": 94,
   "id": "1f7ce10d",
   "metadata": {},
   "outputs": [],
   "source": [
    "def plotData(data, approxData):\n",
    "    fig = plt.figure(figsize=(12,8), frameon=True)\n",
    "    plt.style.use('ggplot')\n",
    "    plt.rcParams[\"mathtext.fontset\"] = \"cm\"\n",
    "    plt.rcParams[\"font.family\"] = \"Times New Roman\"\n",
    "    plt.rcParams['font.size'] = 37\n",
    "    plt.rcParams['text.color'] = 'black'\n",
    "    plt.rcParams['xtick.color'] = 'black'\n",
    "    plt.rcParams['ytick.color'] = 'black'\n",
    "    plt.rcParams['axes.labelcolor'] = 'black'\n",
    "    ax = fig.add_subplot(111)    \n",
    "\n",
    "    ax.spines['bottom'].set_color('black')\n",
    "    ax.spines['top'].set_color('black')\n",
    "    ax.spines['right'].set_color('black')\n",
    "    ax.spines['left'].set_color('black')\n",
    "\n",
    "    ax.set(facecolor='w')\n",
    "    ax.grid('axis = \"both\"', color = 'gray')\n",
    "\n",
    "    ax.set_xlabel('$x$', labelpad = -10)\n",
    "    ax.set_ylabel('$y$', rotation = 0, labelpad = 20)\n",
    "    \n",
    "    ax.plot(data[:,0], data[:,1], color = 'blue', linestyle = '-', linewidth = 3, label='Данные')\n",
    "    ax.plot(data[:,0], approxData, color = 'red', linestyle = '-', linewidth = 2, label = 'Приближение при N = ' + str(n))\n",
    "    ax.legend(loc=4)\n",
    "\n",
    "    plt.show()"
   ]
  },
  {
   "cell_type": "code",
   "execution_count": 95,
   "id": "745337ca",
   "metadata": {},
   "outputs": [],
   "source": [
    "path = 'data_2.txt'\n",
    "data = np.loadtxt(path, dtype=float)"
   ]
  },
  {
   "cell_type": "code",
   "execution_count": 108,
   "id": "41bb1c77",
   "metadata": {},
   "outputs": [],
   "source": [
    "N = 10\n",
    "condAtA = np.zeros(N)\n",
    "condA = np.zeros(N)\n",
    "NU_NRSME = np.zeros(N)\n",
    "QR_NRSME = np.zeros(N)\n",
    "NU_time = np.zeros(N)\n",
    "QR_time = np.zeros(N)\n",
    "\n",
    "for n in range(N):\n",
    "    _, cond, NRSME, bench = dataApproxWithNU(n+1, data, 'Chebyshev')\n",
    "    condAtA[n] = cond\n",
    "    NU_NRSME[n] = NRSME\n",
    "    NU_time[n] = bench \n",
    "    \n",
    "    _, cond, NRSME, bench = dataApproxWithQR(n+1, data, 'Chebyshev')\n",
    "    condA[n] = cond\n",
    "    QR_NRSME[n] = NRSME\n",
    "    QR_time[n] = bench "
   ]
  },
  {
   "cell_type": "code",
   "execution_count": 199,
   "id": "cea0741c",
   "metadata": {},
   "outputs": [],
   "source": [
    "table = pd.DataFrame({'cond(AtA)': condAtA, 'NRMSE (НУ)': NU_NRSME, 'Время НУ (с)': NU_time,\n",
    "                     'cond(A)': condA, 'NRMSE (QR)': QR_NRSME, 'Время QR (с)': QR_time}, index=np.arange(1, 11))\n",
    "table[\"cond(AtA)\"] = table[\"cond(AtA)\"].map(\"{:.2e}\".format)\n",
    "table[\"NRMSE (НУ)\"] = table[\"NRMSE (НУ)\"].map(\"{:.2e}\".format)\n",
    "table[\"Время НУ (с)\"] = table[\"Время НУ (с)\"].map(\"{:.2e}\".format)\n",
    "table[\"cond(A)\"] = table[\"cond(A)\"].map(\"{:.2e}\".format)\n",
    "table[\"NRMSE (QR)\"] = table[\"NRMSE (QR)\"].map(\"{:.2e}\".format)\n",
    "table[\"Время QR (с)\"] = table[\"Время QR (с)\"].map(\"{:.2e}\".format)"
   ]
  },
  {
   "cell_type": "code",
   "execution_count": 200,
   "id": "18ed7fbc",
   "metadata": {},
   "outputs": [
    {
     "data": {
      "text/html": [
       "<div>\n",
       "<style scoped>\n",
       "    .dataframe tbody tr th:only-of-type {\n",
       "        vertical-align: middle;\n",
       "    }\n",
       "\n",
       "    .dataframe tbody tr th {\n",
       "        vertical-align: top;\n",
       "    }\n",
       "\n",
       "    .dataframe thead th {\n",
       "        text-align: right;\n",
       "    }\n",
       "</style>\n",
       "<table border=\"1\" class=\"dataframe\">\n",
       "  <thead>\n",
       "    <tr style=\"text-align: right;\">\n",
       "      <th></th>\n",
       "      <th>cond(AtA)</th>\n",
       "      <th>NRMSE (НУ)</th>\n",
       "      <th>Время НУ (с)</th>\n",
       "      <th>cond(A)</th>\n",
       "      <th>NRMSE (QR)</th>\n",
       "      <th>Время QR (с)</th>\n",
       "    </tr>\n",
       "  </thead>\n",
       "  <tbody>\n",
       "    <tr>\n",
       "      <th>1</th>\n",
       "      <td>3.06e+02</td>\n",
       "      <td>1.14e-02</td>\n",
       "      <td>4.85e-04</td>\n",
       "      <td>1.75e+01</td>\n",
       "      <td>1.14e-02</td>\n",
       "      <td>1.69e+01</td>\n",
       "    </tr>\n",
       "    <tr>\n",
       "      <th>2</th>\n",
       "      <td>1.19e+05</td>\n",
       "      <td>6.72e-04</td>\n",
       "      <td>3.61e-04</td>\n",
       "      <td>3.45e+02</td>\n",
       "      <td>6.72e-04</td>\n",
       "      <td>2.84e+01</td>\n",
       "    </tr>\n",
       "    <tr>\n",
       "      <th>3</th>\n",
       "      <td>6.13e+07</td>\n",
       "      <td>6.69e-04</td>\n",
       "      <td>3.40e-04</td>\n",
       "      <td>7.83e+03</td>\n",
       "      <td>6.69e-04</td>\n",
       "      <td>4.59e+01</td>\n",
       "    </tr>\n",
       "    <tr>\n",
       "      <th>4</th>\n",
       "      <td>2.61e+10</td>\n",
       "      <td>6.66e-04</td>\n",
       "      <td>1.43e-03</td>\n",
       "      <td>1.62e+05</td>\n",
       "      <td>6.66e-04</td>\n",
       "      <td>6.92e+01</td>\n",
       "    </tr>\n",
       "    <tr>\n",
       "      <th>5</th>\n",
       "      <td>1.39e+13</td>\n",
       "      <td>4.41e-04</td>\n",
       "      <td>3.53e-03</td>\n",
       "      <td>3.73e+06</td>\n",
       "      <td>4.41e-04</td>\n",
       "      <td>9.05e+01</td>\n",
       "    </tr>\n",
       "    <tr>\n",
       "      <th>6</th>\n",
       "      <td>6.11e+15</td>\n",
       "      <td>2.52e-04</td>\n",
       "      <td>8.36e-03</td>\n",
       "      <td>7.80e+07</td>\n",
       "      <td>2.47e-04</td>\n",
       "      <td>9.62e+01</td>\n",
       "    </tr>\n",
       "    <tr>\n",
       "      <th>7</th>\n",
       "      <td>1.68e+17</td>\n",
       "      <td>2.41e-04</td>\n",
       "      <td>2.81e-03</td>\n",
       "      <td>1.80e+09</td>\n",
       "      <td>2.36e-04</td>\n",
       "      <td>8.57e+01</td>\n",
       "    </tr>\n",
       "    <tr>\n",
       "      <th>8</th>\n",
       "      <td>2.61e+17</td>\n",
       "      <td>2.53e-04</td>\n",
       "      <td>6.51e-03</td>\n",
       "      <td>3.78e+10</td>\n",
       "      <td>2.03e-04</td>\n",
       "      <td>9.77e+01</td>\n",
       "    </tr>\n",
       "    <tr>\n",
       "      <th>9</th>\n",
       "      <td>3.60e+17</td>\n",
       "      <td>2.38e-04</td>\n",
       "      <td>6.54e-03</td>\n",
       "      <td>8.71e+11</td>\n",
       "      <td>1.80e-04</td>\n",
       "      <td>2.83e+02</td>\n",
       "    </tr>\n",
       "    <tr>\n",
       "      <th>10</th>\n",
       "      <td>2.41e+17</td>\n",
       "      <td>2.37e-04</td>\n",
       "      <td>6.59e-03</td>\n",
       "      <td>1.83e+13</td>\n",
       "      <td>1.67e-04</td>\n",
       "      <td>2.63e+02</td>\n",
       "    </tr>\n",
       "  </tbody>\n",
       "</table>\n",
       "</div>"
      ],
      "text/plain": [
       "   cond(AtA) NRMSE (НУ) Время НУ (с)   cond(A) NRMSE (QR) Время QR (с)\n",
       "1   3.06e+02   1.14e-02     4.85e-04  1.75e+01   1.14e-02     1.69e+01\n",
       "2   1.19e+05   6.72e-04     3.61e-04  3.45e+02   6.72e-04     2.84e+01\n",
       "3   6.13e+07   6.69e-04     3.40e-04  7.83e+03   6.69e-04     4.59e+01\n",
       "4   2.61e+10   6.66e-04     1.43e-03  1.62e+05   6.66e-04     6.92e+01\n",
       "5   1.39e+13   4.41e-04     3.53e-03  3.73e+06   4.41e-04     9.05e+01\n",
       "6   6.11e+15   2.52e-04     8.36e-03  7.80e+07   2.47e-04     9.62e+01\n",
       "7   1.68e+17   2.41e-04     2.81e-03  1.80e+09   2.36e-04     8.57e+01\n",
       "8   2.61e+17   2.53e-04     6.51e-03  3.78e+10   2.03e-04     9.77e+01\n",
       "9   3.60e+17   2.38e-04     6.54e-03  8.71e+11   1.80e-04     2.83e+02\n",
       "10  2.41e+17   2.37e-04     6.59e-03  1.83e+13   1.67e-04     2.63e+02"
      ]
     },
     "execution_count": 200,
     "metadata": {},
     "output_type": "execute_result"
    }
   ],
   "source": [
    "table"
   ]
  },
  {
   "cell_type": "code",
   "execution_count": 201,
   "id": "3efed062",
   "metadata": {},
   "outputs": [],
   "source": [
    "table.to_csv('data2_res.csv')"
   ]
  },
  {
   "cell_type": "code",
   "execution_count": 202,
   "id": "f51b82c5",
   "metadata": {},
   "outputs": [
    {
     "data": {
      "text/plain": [
       "array([0.0114233 , 0.00067195, 0.00066935, 0.00066629, 0.00044069,\n",
       "       0.00025218, 0.00024124, 0.00025312, 0.00023828, 0.00023699])"
      ]
     },
     "execution_count": 202,
     "metadata": {},
     "output_type": "execute_result"
    }
   ],
   "source": [
    "NU_NRSME"
   ]
  },
  {
   "cell_type": "code",
   "execution_count": 203,
   "id": "44e8534f",
   "metadata": {},
   "outputs": [
    {
     "data": {
      "text/plain": [
       "array([0.0114233 , 0.00067195, 0.00066935, 0.00066629, 0.00044069,\n",
       "       0.00024673, 0.0002362 , 0.00020257, 0.00017991, 0.0001665 ])"
      ]
     },
     "execution_count": 203,
     "metadata": {},
     "output_type": "execute_result"
    }
   ],
   "source": [
    "QR_NRSME"
   ]
  },
  {
   "cell_type": "code",
   "execution_count": null,
   "id": "882dc8d6",
   "metadata": {},
   "outputs": [],
   "source": []
  }
 ],
 "metadata": {
  "kernelspec": {
   "display_name": "Python 3 (ipykernel)",
   "language": "python",
   "name": "python3"
  },
  "language_info": {
   "codemirror_mode": {
    "name": "ipython",
    "version": 3
   },
   "file_extension": ".py",
   "mimetype": "text/x-python",
   "name": "python",
   "nbconvert_exporter": "python",
   "pygments_lexer": "ipython3",
   "version": "3.10.13"
  }
 },
 "nbformat": 4,
 "nbformat_minor": 5
}
